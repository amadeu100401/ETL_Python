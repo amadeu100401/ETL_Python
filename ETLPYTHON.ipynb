{
  "nbformat": 4,
  "nbformat_minor": 0,
  "metadata": {
    "colab": {
      "name": "ETLPYTHON.ipynb",
      "provenance": [],
      "collapsed_sections": [],
      "authorship_tag": "ABX9TyPCCm5ox9XBLoANCqrzHcuA",
      "include_colab_link": true
    },
    "kernelspec": {
      "name": "python3",
      "display_name": "Python 3"
    },
    "language_info": {
      "name": "python"
    }
  },
  "cells": [
    {
      "cell_type": "markdown",
      "metadata": {
        "id": "view-in-github",
        "colab_type": "text"
      },
      "source": [
        "<a href=\"https://colab.research.google.com/github/amadeu100401/ETL_Python/blob/main/ETLPYTHON.ipynb\" target=\"_parent\"><img src=\"https://colab.research.google.com/assets/colab-badge.svg\" alt=\"Open In Colab\"/></a>"
      ]
    },
    {
      "cell_type": "markdown",
      "source": [
        "# **Bibliotecas necessárias**"
      ],
      "metadata": {
        "id": "JF9PqtjSo1MD"
      }
    },
    {
      "cell_type": "code",
      "source": [
        "import pandas as pd\n",
        "import psycopg2 as pg"
      ],
      "metadata": {
        "id": "Tj6qvAjXo7Aq"
      },
      "execution_count": 19,
      "outputs": []
    },
    {
      "cell_type": "markdown",
      "source": [
        "# **Faz a conexão com o banco de dados**"
      ],
      "metadata": {
        "id": "qRLNGwiO2KjO"
      }
    },
    {
      "cell_type": "code",
      "source": [
        "connection = pg.connect(user = \"amadeu\", password = \"123456789\", host = \"209.209.40.93\", port = \"19070\", database = \"FolhaDB\")\n",
        "curs = connection.cursor()"
      ],
      "metadata": {
        "id": "XYT7c1oSspG0"
      },
      "execution_count": 20,
      "outputs": []
    },
    {
      "cell_type": "markdown",
      "source": [
        "# **Faz a limpeza da tabela dimencional**"
      ],
      "metadata": {
        "id": "O4sZ5KVm2HAz"
      }
    },
    {
      "cell_type": "code",
      "source": [
        "def limparTabelaDW():\n",
        "  sql_delete_folhadw = ( '''\n",
        "    DELETE from folhadw.dm_faixas_etarias CASCADE;\n",
        "    DELETE FROM folhadw.dm_rubricas CASCADE;\n",
        "    DELETE FROM folhadw.dm_setores CASCADE;\n",
        "    DELETE FROM folhadw.dm_tempos_folhas CASCADE;\n",
        "    DELETE FROM folhadw.dm_tempos_servicos CASCADE;\n",
        "    DELETE FROM folhadw.ft_lancamentos CASCADE;\n",
        "    DELETE FROM folhadw.dm_cargos CASCADE;\n",
        "    ''')\n",
        "  connection.rollback()\n",
        "  curs.execute(sql_delete_folhadw)\n",
        "  connection.commit()\n",
        "\n",
        "limparTabelaDW()"
      ],
      "metadata": {
        "id": "XW9hVBJWxD8N"
      },
      "execution_count": 21,
      "outputs": []
    },
    {
      "cell_type": "markdown",
      "source": [
        "# **Popular campos da tabela dimencional**"
      ],
      "metadata": {
        "id": "nQL0b-40MBe7"
      }
    },
    {
      "cell_type": "code",
      "source": [
        "popDMcargo =( ''' \n",
        "  INSERT INTO folhadw.dm_cargos (cod_cargo,dsc_carreira,dsc_cargo) \n",
        "  SELECT A.cod_cargo, B.dsc_carreira, A.dsc_cargo FROM folha.cargos A \n",
        "  LEFT JOIN folha.carreiras B on A.cod_carreira = B.cod_carreira\n",
        "    ''')\n",
        "connection.rollback()\n",
        "curs.execute(popDMcargo)"
      ],
      "metadata": {
        "id": "BuOg_-NsMjwt"
      },
      "execution_count": 16,
      "outputs": []
    },
    {
      "cell_type": "code",
      "source": [
        "popDMSetores =( ''' \n",
        "  INSERT INTO folhadw.dm_setores (cod_setor, dsc_unidade, cidade_unidade, uf_unidade, dsc_setor)\n",
        "  SELECT S.cod_setor , U.dsc_und , U.cid_und, U.uf_und, S.dsc_setor FROM folha.setores S inner join folha.unidades U on S.cod_und = U.cod_und\n",
        "    ''')\n",
        "connection.rollback()\n",
        "curs.execute(popDMSetores)"
      ],
      "metadata": {
        "id": "xJllib1-glY7"
      },
      "execution_count": 18,
      "outputs": []
    },
    {
      "cell_type": "markdown",
      "source": [
        "# **Limpar BD relacional**"
      ],
      "metadata": {
        "id": "1tlAZIA0mDm7"
      }
    },
    {
      "cell_type": "code",
      "source": [
        "sql_deleteFolhadw = ( '''\n",
        "    DELETE from folha.cargos;\n",
        "    DELETE from folha.cargos;\n",
        "    DELETE from folha.cargos;\n",
        "    DELETE from folha.cargos;\n",
        "    DELETE from folha.cargos;\n",
        "    DELETE from folha.cargos;\n",
        "    DELETE from folha.cargos;\n",
        "    DELETE from folha.cargos;\n",
        "  ''')\n",
        "connection.rollback()\n",
        "curs.execute(sql_deleteFolhadw)\n",
        "connection.commit()"
      ],
      "metadata": {
        "id": "GaXjqwiJmIdS"
      },
      "execution_count": null,
      "outputs": []
    },
    {
      "cell_type": "markdown",
      "source": [
        ""
      ],
      "metadata": {
        "id": "6_XZDLqlmIOs"
      }
    }
  ]
}